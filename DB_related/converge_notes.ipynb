{
 "metadata": {
  "language_info": {
   "codemirror_mode": {
    "name": "ipython",
    "version": 3
   },
   "file_extension": ".py",
   "mimetype": "text/x-python",
   "name": "python",
   "nbconvert_exporter": "python",
   "pygments_lexer": "ipython3",
   "version": "3.8.5"
  },
  "orig_nbformat": 2,
  "kernelspec": {
   "name": "python3",
   "display_name": "Python 3.8.5 64-bit",
   "metadata": {
    "interpreter": {
     "hash": "916dbcbb3f70747c44a77c7bcd40155683ae19c65e1c03b4aa3499c5328201f1"
    }
   }
  }
 },
 "nbformat": 4,
 "nbformat_minor": 2,
 "cells": [
  {
   "cell_type": "code",
   "execution_count": 755,
   "metadata": {},
   "outputs": [],
   "source": [
    "import pandas as pd\n",
    "import numpy as np\n",
    "import os\n",
    "import sys"
   ]
  },
  {
   "cell_type": "code",
   "execution_count": 756,
   "metadata": {},
   "outputs": [
    {
     "output_type": "execute_result",
     "data": {
      "text/plain": [
       "          brand     name                note category\n",
       "0  acquadiparma  colonia               lemon      top\n",
       "1  acquadiparma  colonia        sweet orange      top\n",
       "2  acquadiparma  colonia  calabrian bergamot      top\n",
       "3  acquadiparma  colonia            lavender      mid\n",
       "4  acquadiparma  colonia      bulgarian rose      mid"
      ],
      "text/html": "<div>\n<style scoped>\n    .dataframe tbody tr th:only-of-type {\n        vertical-align: middle;\n    }\n\n    .dataframe tbody tr th {\n        vertical-align: top;\n    }\n\n    .dataframe thead th {\n        text-align: right;\n    }\n</style>\n<table border=\"1\" class=\"dataframe\">\n  <thead>\n    <tr style=\"text-align: right;\">\n      <th></th>\n      <th>brand</th>\n      <th>name</th>\n      <th>note</th>\n      <th>category</th>\n    </tr>\n  </thead>\n  <tbody>\n    <tr>\n      <th>0</th>\n      <td>acquadiparma</td>\n      <td>colonia</td>\n      <td>lemon</td>\n      <td>top</td>\n    </tr>\n    <tr>\n      <th>1</th>\n      <td>acquadiparma</td>\n      <td>colonia</td>\n      <td>sweet orange</td>\n      <td>top</td>\n    </tr>\n    <tr>\n      <th>2</th>\n      <td>acquadiparma</td>\n      <td>colonia</td>\n      <td>calabrian bergamot</td>\n      <td>top</td>\n    </tr>\n    <tr>\n      <th>3</th>\n      <td>acquadiparma</td>\n      <td>colonia</td>\n      <td>lavender</td>\n      <td>mid</td>\n    </tr>\n    <tr>\n      <th>4</th>\n      <td>acquadiparma</td>\n      <td>colonia</td>\n      <td>bulgarian rose</td>\n      <td>mid</td>\n    </tr>\n  </tbody>\n</table>\n</div>"
     },
     "metadata": {},
     "execution_count": 756
    }
   ],
   "source": [
    "df = pd.read_csv(\"notes_before.csv\", index_col=0)\n",
    "df.head()"
   ]
  },
  {
   "cell_type": "code",
   "execution_count": 757,
   "metadata": {},
   "outputs": [
    {
     "output_type": "execute_result",
     "data": {
      "text/plain": [
       "                   no            yes\n",
       "0        sweet orange         orange\n",
       "1  calabrian bergamot       bergamot\n",
       "2      bulgarian rose           rose\n",
       "3             verbena  lemon verbena\n",
       "4            lavander       lavender"
      ],
      "text/html": "<div>\n<style scoped>\n    .dataframe tbody tr th:only-of-type {\n        vertical-align: middle;\n    }\n\n    .dataframe tbody tr th {\n        vertical-align: top;\n    }\n\n    .dataframe thead th {\n        text-align: right;\n    }\n</style>\n<table border=\"1\" class=\"dataframe\">\n  <thead>\n    <tr style=\"text-align: right;\">\n      <th></th>\n      <th>no</th>\n      <th>yes</th>\n    </tr>\n  </thead>\n  <tbody>\n    <tr>\n      <th>0</th>\n      <td>sweet orange</td>\n      <td>orange</td>\n    </tr>\n    <tr>\n      <th>1</th>\n      <td>calabrian bergamot</td>\n      <td>bergamot</td>\n    </tr>\n    <tr>\n      <th>2</th>\n      <td>bulgarian rose</td>\n      <td>rose</td>\n    </tr>\n    <tr>\n      <th>3</th>\n      <td>verbena</td>\n      <td>lemon verbena</td>\n    </tr>\n    <tr>\n      <th>4</th>\n      <td>lavander</td>\n      <td>lavender</td>\n    </tr>\n  </tbody>\n</table>\n</div>"
     },
     "metadata": {},
     "execution_count": 757
    }
   ],
   "source": [
    "fnotes = pd.read_csv(\"no.csv\", index_col=0)\n",
    "fnotes.head()"
   ]
  },
  {
   "cell_type": "code",
   "execution_count": 758,
   "metadata": {},
   "outputs": [
    {
     "output_type": "stream",
     "name": "stdout",
     "text": [
      "['orange']\n"
     ]
    }
   ],
   "source": [
    "a = fnotes[fnotes[\"no\"] == \"sweet orange\"][\"yes\"]\n",
    "print(a.values)"
   ]
  },
  {
   "cell_type": "code",
   "execution_count": 759,
   "metadata": {},
   "outputs": [],
   "source": [
    "def converge(no):\n",
    "    try:\n",
    "        yes = fnotes[fnotes[\"no\"] == no][\"yes\"].values[0]\n",
    "    except:\n",
    "         yes = no\n",
    "    return yes"
   ]
  },
  {
   "cell_type": "code",
   "execution_count": 760,
   "metadata": {},
   "outputs": [],
   "source": [
    "df[\"note\"] = df[\"note\"].apply(lambda x: converge(x))"
   ]
  },
  {
   "cell_type": "code",
   "execution_count": 761,
   "metadata": {},
   "outputs": [
    {
     "output_type": "execute_result",
     "data": {
      "text/plain": [
       "          brand     name      note category\n",
       "0  acquadiparma  colonia     lemon      top\n",
       "1  acquadiparma  colonia    orange      top\n",
       "2  acquadiparma  colonia  bergamot      top\n",
       "3  acquadiparma  colonia  lavender      mid\n",
       "4  acquadiparma  colonia      rose      mid"
      ],
      "text/html": "<div>\n<style scoped>\n    .dataframe tbody tr th:only-of-type {\n        vertical-align: middle;\n    }\n\n    .dataframe tbody tr th {\n        vertical-align: top;\n    }\n\n    .dataframe thead th {\n        text-align: right;\n    }\n</style>\n<table border=\"1\" class=\"dataframe\">\n  <thead>\n    <tr style=\"text-align: right;\">\n      <th></th>\n      <th>brand</th>\n      <th>name</th>\n      <th>note</th>\n      <th>category</th>\n    </tr>\n  </thead>\n  <tbody>\n    <tr>\n      <th>0</th>\n      <td>acquadiparma</td>\n      <td>colonia</td>\n      <td>lemon</td>\n      <td>top</td>\n    </tr>\n    <tr>\n      <th>1</th>\n      <td>acquadiparma</td>\n      <td>colonia</td>\n      <td>orange</td>\n      <td>top</td>\n    </tr>\n    <tr>\n      <th>2</th>\n      <td>acquadiparma</td>\n      <td>colonia</td>\n      <td>bergamot</td>\n      <td>top</td>\n    </tr>\n    <tr>\n      <th>3</th>\n      <td>acquadiparma</td>\n      <td>colonia</td>\n      <td>lavender</td>\n      <td>mid</td>\n    </tr>\n    <tr>\n      <th>4</th>\n      <td>acquadiparma</td>\n      <td>colonia</td>\n      <td>rose</td>\n      <td>mid</td>\n    </tr>\n  </tbody>\n</table>\n</div>"
     },
     "metadata": {},
     "execution_count": 761
    }
   ],
   "source": [
    "df.head()"
   ]
  },
  {
   "cell_type": "code",
   "execution_count": 762,
   "metadata": {},
   "outputs": [],
   "source": [
    "df[\"time\"] = df[\"category\"]\n",
    "df.drop([\"category\"],axis=1, inplace=True)"
   ]
  },
  {
   "cell_type": "code",
   "execution_count": 763,
   "metadata": {},
   "outputs": [],
   "source": [
    "df.to_csv(\"converged.csv\")"
   ]
  },
  {
   "cell_type": "code",
   "execution_count": 764,
   "metadata": {},
   "outputs": [
    {
     "output_type": "execute_result",
     "data": {
      "text/plain": [
       "             eng category\n",
       "0       bergamot   citrus\n",
       "1  bitter orange   citrus\n",
       "2   blood orange   citrus\n",
       "3      calamansi   citrus\n",
       "4       chinotto   citrus"
      ],
      "text/html": "<div>\n<style scoped>\n    .dataframe tbody tr th:only-of-type {\n        vertical-align: middle;\n    }\n\n    .dataframe tbody tr th {\n        vertical-align: top;\n    }\n\n    .dataframe thead th {\n        text-align: right;\n    }\n</style>\n<table border=\"1\" class=\"dataframe\">\n  <thead>\n    <tr style=\"text-align: right;\">\n      <th></th>\n      <th>eng</th>\n      <th>category</th>\n    </tr>\n  </thead>\n  <tbody>\n    <tr>\n      <th>0</th>\n      <td>bergamot</td>\n      <td>citrus</td>\n    </tr>\n    <tr>\n      <th>1</th>\n      <td>bitter orange</td>\n      <td>citrus</td>\n    </tr>\n    <tr>\n      <th>2</th>\n      <td>blood orange</td>\n      <td>citrus</td>\n    </tr>\n    <tr>\n      <th>3</th>\n      <td>calamansi</td>\n      <td>citrus</td>\n    </tr>\n    <tr>\n      <th>4</th>\n      <td>chinotto</td>\n      <td>citrus</td>\n    </tr>\n  </tbody>\n</table>\n</div>"
     },
     "metadata": {},
     "execution_count": 764
    }
   ],
   "source": [
    "cat = pd.read_csv(\"notes-category.csv\")\n",
    "cat.drop(\"kor\", axis=1, inplace=True)\n",
    "cat[\"eng\"] = cat[\"eng\"].str.lower().str.strip()\n",
    "cat.head()"
   ]
  },
  {
   "cell_type": "code",
   "execution_count": 765,
   "metadata": {},
   "outputs": [],
   "source": [
    "def category_(name):\n",
    "    # print(name, end=\", \")\n",
    "    # print(cat[\"eng\"]==name)\n",
    "    try:\n",
    "        category = cat[cat[\"eng\"] == name][\"category\"].values[0]\n",
    "    except:\n",
    "        category = \"\"\n",
    "        print(name)\n",
    "    # print(category)\n",
    "    return category"
   ]
  },
  {
   "cell_type": "code",
   "execution_count": 766,
   "metadata": {},
   "outputs": [],
   "source": [
    "df[\"category\"] = df[\"note\"]"
   ]
  },
  {
   "cell_type": "code",
   "execution_count": 767,
   "metadata": {},
   "outputs": [
    {
     "output_type": "execute_result",
     "data": {
      "text/plain": [
       "0              lemon\n",
       "1             orange\n",
       "2           bergamot\n",
       "3           lavender\n",
       "4               rose\n",
       "            ...     \n",
       "1593         benzoin\n",
       "1594    floral notes\n",
       "1595         jasmine\n",
       "1596      sandalwood\n",
       "1597         benzoin\n",
       "Name: category, Length: 1590, dtype: object"
      ]
     },
     "metadata": {},
     "execution_count": 767
    }
   ],
   "source": [
    "df[\"category\"]"
   ]
  },
  {
   "cell_type": "code",
   "execution_count": 768,
   "metadata": {},
   "outputs": [
    {
     "output_type": "execute_result",
     "data": {
      "text/plain": [
       "          brand     name      note time  category\n",
       "0  acquadiparma  colonia     lemon  top     lemon\n",
       "1  acquadiparma  colonia    orange  top    orange\n",
       "2  acquadiparma  colonia  bergamot  top  bergamot\n",
       "3  acquadiparma  colonia  lavender  mid  lavender\n",
       "4  acquadiparma  colonia      rose  mid      rose"
      ],
      "text/html": "<div>\n<style scoped>\n    .dataframe tbody tr th:only-of-type {\n        vertical-align: middle;\n    }\n\n    .dataframe tbody tr th {\n        vertical-align: top;\n    }\n\n    .dataframe thead th {\n        text-align: right;\n    }\n</style>\n<table border=\"1\" class=\"dataframe\">\n  <thead>\n    <tr style=\"text-align: right;\">\n      <th></th>\n      <th>brand</th>\n      <th>name</th>\n      <th>note</th>\n      <th>time</th>\n      <th>category</th>\n    </tr>\n  </thead>\n  <tbody>\n    <tr>\n      <th>0</th>\n      <td>acquadiparma</td>\n      <td>colonia</td>\n      <td>lemon</td>\n      <td>top</td>\n      <td>lemon</td>\n    </tr>\n    <tr>\n      <th>1</th>\n      <td>acquadiparma</td>\n      <td>colonia</td>\n      <td>orange</td>\n      <td>top</td>\n      <td>orange</td>\n    </tr>\n    <tr>\n      <th>2</th>\n      <td>acquadiparma</td>\n      <td>colonia</td>\n      <td>bergamot</td>\n      <td>top</td>\n      <td>bergamot</td>\n    </tr>\n    <tr>\n      <th>3</th>\n      <td>acquadiparma</td>\n      <td>colonia</td>\n      <td>lavender</td>\n      <td>mid</td>\n      <td>lavender</td>\n    </tr>\n    <tr>\n      <th>4</th>\n      <td>acquadiparma</td>\n      <td>colonia</td>\n      <td>rose</td>\n      <td>mid</td>\n      <td>rose</td>\n    </tr>\n  </tbody>\n</table>\n</div>"
     },
     "metadata": {},
     "execution_count": 768
    }
   ],
   "source": [
    "df.head()"
   ]
  },
  {
   "cell_type": "code",
   "execution_count": 769,
   "metadata": {},
   "outputs": [],
   "source": [
    "df[\"category\"] = df[\"category\"].apply(lambda x: category_(x))"
   ]
  },
  {
   "cell_type": "code",
   "execution_count": 770,
   "metadata": {},
   "outputs": [
    {
     "output_type": "execute_result",
     "data": {
      "text/plain": [
       "          brand     name      note time category\n",
       "0  acquadiparma  colonia     lemon  top   citrus\n",
       "1  acquadiparma  colonia    orange  top   citrus\n",
       "2  acquadiparma  colonia  bergamot  top   citrus\n",
       "3  acquadiparma  colonia  lavender  mid   floral\n",
       "4  acquadiparma  colonia      rose  mid   floral"
      ],
      "text/html": "<div>\n<style scoped>\n    .dataframe tbody tr th:only-of-type {\n        vertical-align: middle;\n    }\n\n    .dataframe tbody tr th {\n        vertical-align: top;\n    }\n\n    .dataframe thead th {\n        text-align: right;\n    }\n</style>\n<table border=\"1\" class=\"dataframe\">\n  <thead>\n    <tr style=\"text-align: right;\">\n      <th></th>\n      <th>brand</th>\n      <th>name</th>\n      <th>note</th>\n      <th>time</th>\n      <th>category</th>\n    </tr>\n  </thead>\n  <tbody>\n    <tr>\n      <th>0</th>\n      <td>acquadiparma</td>\n      <td>colonia</td>\n      <td>lemon</td>\n      <td>top</td>\n      <td>citrus</td>\n    </tr>\n    <tr>\n      <th>1</th>\n      <td>acquadiparma</td>\n      <td>colonia</td>\n      <td>orange</td>\n      <td>top</td>\n      <td>citrus</td>\n    </tr>\n    <tr>\n      <th>2</th>\n      <td>acquadiparma</td>\n      <td>colonia</td>\n      <td>bergamot</td>\n      <td>top</td>\n      <td>citrus</td>\n    </tr>\n    <tr>\n      <th>3</th>\n      <td>acquadiparma</td>\n      <td>colonia</td>\n      <td>lavender</td>\n      <td>mid</td>\n      <td>floral</td>\n    </tr>\n    <tr>\n      <th>4</th>\n      <td>acquadiparma</td>\n      <td>colonia</td>\n      <td>rose</td>\n      <td>mid</td>\n      <td>floral</td>\n    </tr>\n  </tbody>\n</table>\n</div>"
     },
     "metadata": {},
     "execution_count": 770
    }
   ],
   "source": [
    "df.head()"
   ]
  },
  {
   "cell_type": "code",
   "execution_count": 771,
   "metadata": {},
   "outputs": [],
   "source": [
    "df.to_csv(\"converged.csv\")"
   ]
  },
  {
   "cell_type": "code",
   "execution_count": 772,
   "metadata": {},
   "outputs": [
    {
     "output_type": "execute_result",
     "data": {
      "text/plain": [
       "          brand     name      note time category\n",
       "0  acquadiparma  colonia     lemon  top   citrus\n",
       "1  acquadiparma  colonia    orange  top   citrus\n",
       "2  acquadiparma  colonia  bergamot  top   citrus\n",
       "3  acquadiparma  colonia  lavender  mid   floral\n",
       "4  acquadiparma  colonia      rose  mid   floral"
      ],
      "text/html": "<div>\n<style scoped>\n    .dataframe tbody tr th:only-of-type {\n        vertical-align: middle;\n    }\n\n    .dataframe tbody tr th {\n        vertical-align: top;\n    }\n\n    .dataframe thead th {\n        text-align: right;\n    }\n</style>\n<table border=\"1\" class=\"dataframe\">\n  <thead>\n    <tr style=\"text-align: right;\">\n      <th></th>\n      <th>brand</th>\n      <th>name</th>\n      <th>note</th>\n      <th>time</th>\n      <th>category</th>\n    </tr>\n  </thead>\n  <tbody>\n    <tr>\n      <th>0</th>\n      <td>acquadiparma</td>\n      <td>colonia</td>\n      <td>lemon</td>\n      <td>top</td>\n      <td>citrus</td>\n    </tr>\n    <tr>\n      <th>1</th>\n      <td>acquadiparma</td>\n      <td>colonia</td>\n      <td>orange</td>\n      <td>top</td>\n      <td>citrus</td>\n    </tr>\n    <tr>\n      <th>2</th>\n      <td>acquadiparma</td>\n      <td>colonia</td>\n      <td>bergamot</td>\n      <td>top</td>\n      <td>citrus</td>\n    </tr>\n    <tr>\n      <th>3</th>\n      <td>acquadiparma</td>\n      <td>colonia</td>\n      <td>lavender</td>\n      <td>mid</td>\n      <td>floral</td>\n    </tr>\n    <tr>\n      <th>4</th>\n      <td>acquadiparma</td>\n      <td>colonia</td>\n      <td>rose</td>\n      <td>mid</td>\n      <td>floral</td>\n    </tr>\n  </tbody>\n</table>\n</div>"
     },
     "metadata": {},
     "execution_count": 772
    }
   ],
   "source": [
    "df.head()"
   ]
  },
  {
   "cell_type": "code",
   "execution_count": null,
   "metadata": {},
   "outputs": [],
   "source": []
  }
 ]
}