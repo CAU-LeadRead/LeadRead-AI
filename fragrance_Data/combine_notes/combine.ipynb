{
 "metadata": {
  "language_info": {
   "codemirror_mode": {
    "name": "ipython",
    "version": 3
   },
   "file_extension": ".py",
   "mimetype": "text/x-python",
   "name": "python",
   "nbconvert_exporter": "python",
   "pygments_lexer": "ipython3",
   "version": "3.8.5-final"
  },
  "orig_nbformat": 2,
  "kernelspec": {
   "name": "python3",
   "display_name": "Python 3.8.5 64-bit",
   "metadata": {
    "interpreter": {
     "hash": "31f2aee4e71d21fbe5cf8b01ff0e069b9275f58929596ceb00d14d90e3e16cd6"
    }
   }
  }
 },
 "nbformat": 4,
 "nbformat_minor": 2,
 "cells": [
  {
   "cell_type": "code",
   "execution_count": 247,
   "metadata": {},
   "outputs": [],
   "source": [
    "import pandas as pd\n",
    "import numpy as np\n",
    "import os\n",
    "import sys\n"
   ]
  },
  {
   "cell_type": "code",
   "execution_count": 248,
   "metadata": {},
   "outputs": [],
   "source": [
    "fragrantica = pd.read_csv(\"kr_en.csv\")"
   ]
  },
  {
   "cell_type": "code",
   "execution_count": 249,
   "metadata": {},
   "outputs": [
    {
     "output_type": "execute_result",
     "data": {
      "text/plain": [
       "        국문            eng\n",
       "0     베르가못       Bergamot\n",
       "1   비터 오렌지  Bitter Orange\n",
       "2  블러드 오렌지   Blood Orange\n",
       "3     깔라만시      Calamansi\n",
       "4      치노토       Chinotto"
      ],
      "text/html": "<div>\n<style scoped>\n    .dataframe tbody tr th:only-of-type {\n        vertical-align: middle;\n    }\n\n    .dataframe tbody tr th {\n        vertical-align: top;\n    }\n\n    .dataframe thead th {\n        text-align: right;\n    }\n</style>\n<table border=\"1\" class=\"dataframe\">\n  <thead>\n    <tr style=\"text-align: right;\">\n      <th></th>\n      <th>국문</th>\n      <th>eng</th>\n    </tr>\n  </thead>\n  <tbody>\n    <tr>\n      <th>0</th>\n      <td>베르가못</td>\n      <td>Bergamot</td>\n    </tr>\n    <tr>\n      <th>1</th>\n      <td>비터 오렌지</td>\n      <td>Bitter Orange</td>\n    </tr>\n    <tr>\n      <th>2</th>\n      <td>블러드 오렌지</td>\n      <td>Blood Orange</td>\n    </tr>\n    <tr>\n      <th>3</th>\n      <td>깔라만시</td>\n      <td>Calamansi</td>\n    </tr>\n    <tr>\n      <th>4</th>\n      <td>치노토</td>\n      <td>Chinotto</td>\n    </tr>\n  </tbody>\n</table>\n</div>"
     },
     "metadata": {},
     "execution_count": 249
    }
   ],
   "source": [
    "fragrantica.head()"
   ]
  },
  {
   "cell_type": "code",
   "execution_count": 250,
   "metadata": {},
   "outputs": [
    {
     "output_type": "execute_result",
     "data": {
      "text/plain": [
       "0         Bergamot\n",
       "1    Bitter Orange\n",
       "2     Blood Orange\n",
       "3        Calamansi\n",
       "4         Chinotto\n",
       "5           Citron\n",
       "6         Citruses\n",
       "7       Clementine\n",
       "8      Finger Lime\n",
       "9       Grapefruit\n",
       "Name: eng, dtype: object"
      ]
     },
     "metadata": {},
     "execution_count": 250
    }
   ],
   "source": [
    "fnotes = fragrantica[\"eng\"]\n",
    "fnotes.head(10)"
   ]
  },
  {
   "cell_type": "code",
   "execution_count": 251,
   "metadata": {},
   "outputs": [],
   "source": [
    "f_list = fnotes.to_list()"
   ]
  },
  {
   "cell_type": "code",
   "execution_count": 252,
   "metadata": {},
   "outputs": [
    {
     "output_type": "stream",
     "name": "stdout",
     "text": [
      "1025\n['bergamot', 'bitter orange', 'blood orange', 'calamansi', 'chinotto', 'citron', 'citruses', 'clementine', 'finger lime', 'grapefruit', 'hassaku', 'hatkora lemon', 'kaffir lime', 'kumquat', 'lemon', 'lemon balm', 'lemon tree', 'lemon verbena', 'lemon zest', 'lemongrass', 'lime', 'limetta', 'litsea cubeba', 'mandarin orange', 'mandora', 'methyl pamplemousse', 'neroli', 'orange', 'petitgrain', 'pomelo', 'tangelo', 'tangerine', 'yuzu', 'acai berry', 'acerola', 'almond', 'apple', 'apple juice', 'apple pulp', 'apple sherbet', 'apricot', 'arctic bramble', 'argan', 'banana', 'barberry', 'bearberry', 'beetroot', 'bigarade', 'black currant', 'blackberry', 'blackthorn', 'blueberry', 'boysenberry', 'brazil nut', 'carambola (star fruit)', 'carrot', 'cashew', 'cassowary fruit', 'cepes', 'chayote', 'cherimoya', 'cherry', 'chestnut', 'chia seed', 'cloudberry', 'coconut', 'coconut water', 'corn silk', 'cranberry', 'cucumber', 'cupuacu, cupuassu, copoasu', 'currant leaf and bud', 'cyperus scariosus', 'dewberry', 'dried apple crisp', 'dried apricot', 'dried fruits', 'elderberry', 'fig', 'fig leaf', 'forest fruits', 'frosted berries', 'fruity notes', 'genipapo', 'goji berries', 'gooseberry', 'grape seed', 'grapes', 'greengage', 'ground cherry', 'guarana', 'guava', 'hazelnut', 'jabuticaba', 'jackfruit', 'japanese loquat', 'jobs tears (yi yi ren)', 'kiwi', 'kumbaru', 'lingonberry', 'litchi', 'loganberry', 'longan berries', 'macadamia', 'mahonia', 'malt', 'mango', 'mangosteen', 'maninka', 'marian plum', 'medlar', 'melon', 'mirabelle', 'moepel accord', 'mulberry', 'mushroom', 'nashi pear', 'nectarine', 'nutty notes', 'olive', 'papaya', 'passionfruit', 'pea', 'peach', 'peanut', 'pear', 'pecan', 'persimmon', 'pineapple', 'pinot noir grapes', 'pistachio', 'pitahaya', 'pitanga', 'plum', 'pomegranate', 'pumpkin', 'quince', 'rambutan', 'raspberry', 'red apple', 'red berries', 'red currant', 'red fruits', 'rhubarb', 'roasted nuts', 'sapodilla', 'sea buckthorn', 'shea nuts', 'snowberry', 'sour cherry', 'soursop', 'soybean', 'squash', 'star apple', 'strawberry', 'tayberry', 'tomato', 'tropical fruits', 'umbu-cajá | taperebá', 'walnut', 'water fruit', 'watermelon', 'white currant', 'wild strawberry', 'winterberry', 'wolfberry', 'yellow cherry', 'yumberry', 'acacia', 'acerola blossom', 'aglaia', 'almond blossom', 'althaea', 'alumroot', 'alyssum', 'amarillys', 'anemone', \"angel's trumpet\", 'apple blossom', 'apricot blossom', 'ashoka flower', 'azteca lily', 'banana flower', 'begonia', 'belladona', 'bellflower', 'bergamot blossom', 'black currant blossom', 'blackberry blossom', 'blue lilies', 'blue poppy', 'bougainvillea', 'bread flower', 'bromelia', 'buddleia', 'butomus umbellatus', 'buttercup', 'camellia', 'cannonball flower', 'carambola blossom', 'carnation', 'celosia', 'chamomile', 'champaca', 'cherry blossom', 'chimonanthus or wintersweet', 'china rose', 'chinotto blossom', 'chocolate flower', 'christmas tree or flame tree', 'chrysanthemum', 'clematis', 'clover', 'coffee blossom', 'cornflower, sultan seeds', 'cosmos flower', 'costus', 'cotton flower', 'crinum lily', 'cyclamen', 'dahlia', 'daisy', 'dandelion', 'daphne', 'deadnettle', 'delonix', 'desert rose', 'dianthus', 'dove tree', 'dried rose', \"dyer's greenweed\", 'edelweiss', 'eglantine rose', 'elderflower', 'encian', 'english marigold', 'field scabious', 'flamingo flower (anthurium)', 'flax', 'floral notes', 'forget me not', 'fragonia', 'freesia', 'fuchsia', 'geranium', 'gerbera', 'gladiolus', 'goldenrod', 'gorse', 'grapeflower', 'green nard', 'green tea flower', 'guava blossom', 'guayacan', 'hawthorn', 'hazel blossom', 'heather', 'heliotrope', 'hellabore flower', 'hemlock', 'hibiscus', 'hoary stock', 'holly flower', 'hollyhock', 'honeybush or cyclopia', 'honeydew blossom', 'hortensia', 'hoya carnosa, wax plant', 'hyacinth', 'hyssop', 'impatiens', 'iris', 'jacaranda', 'jade flower', 'jasmine orchid', 'jujube blossom', 'kadam', 'kanuka', 'kiwi blossom', 'kudzu', 'laburnum', 'lady of the night flower', 'lady slipper orchid', 'lamduan flower', 'lamprocapnos', 'lantana', 'larkspur', 'laurel blossom', 'lavender', 'leatherwood', 'liatris', 'lilac', 'lily-of-the-valley', 'lime (linden) blossom', 'lotus', 'lupin', 'lydia broom', 'lysylang', 'magnolia', 'malva', 'mango blossom', 'mariposa lily', 'mayflower', 'meadowsweet', 'melilotus', 'mignonette', 'mimosa', 'mimusops elengi', 'mirabilis', 'monarda', 'monoi oil', 'morning glory flower', 'myrtle', 'narcissus', 'nasturtium', 'nectarine blossom', 'nerium oleander', 'nigella', 'night blooming jasmine', 'olive flower', 'opium', 'orange cassia tree', 'orchard blossom', 'orchid', 'orchid cactus', 'orchid pink leopard', 'ornithogalum', 'orris root', 'osmanthus', 'pansy', 'papaya blossom', 'paramela', 'passion flower', 'pataqueira', 'peach blossom', 'pear blossom', 'pelargonium', 'peony', 'periwinkle', 'petunia', 'phlox', 'pineapple blossom', 'pittosporum', 'plum blossom', 'poinsettia', 'pomegranate blossom', 'poppy', 'primrose', 'princess tree (paulownia)', 'privet', 'prunella', 'rangoon creeper', 'raspberry blossom', 'reseda', 'rhododendron', 'rosa rubiginosa', 'rose', 'rose hip', 'rose japanese (hamanasu)', 'rose mallow', 'rosebay willowherb', 'safflower', 'sainfoins', 'sand lily', 'santolina', 'silk tree blossom', 'smoketree', 'snakeroot', 'snowdrops', 'solomon`s seal', 'sophora toromiro flower', 'sour cherry blossom', 'spanish broom', 'spiraea', \"st. john's wort\", 'strawberry flower', 'strelitzia', 'strobilanthes callosa', 'sunflower', 'sweet pea', 'taif rose', 'tamarisk', 'tobacco blossom', 'trillium', 'tulip', 'vanilla bahiana', 'viburnum', 'violet', 'violet woodsorrel', 'wallflower', 'water hyacinth', 'water lily', 'white ginger lily', 'wildflowers', 'wisteria', 'wrightia', 'ylang-ylang', 'yuzu flower', 'zinnia', 'arum lily', 'black locust', 'boronia', 'carissa', 'datura', 'frangipani', 'gardenia', 'grapefruit blossom', 'honeysuckle', 'jasmine', 'karo-karounde', 'lemon blossom', 'lily', 'mandarin orange blossom', 'melati', 'mock orange', 'moon flower', 'night blooming cereus', 'orange blossom', 'stephanotis', 'syringa', 'tangerine blossom', 'tiare flower', 'tuberose', 'white flowers', 'white tobacco', 'agave', 'algae', 'aloe vera', 'ammophila (beach grass)', 'angelica', 'apple mint', 'arnica', 'artemisia', 'asparagus', 'avocado', 'azolla (water fern)', 'banana leaf', 'barley', 'basil', 'bay essence', 'black currant leaf', 'blackberry leaf', 'borage', 'borneol', 'bran', 'buchu or agathosma', 'bulrush', 'burdock', 'cactus', 'calamus', 'calycanthus', 'cannabis', 'carnation leaves', 'celery', 'celery seeds', 'centella asiatica', 'chive', 'cilantro', 'clary sage', 'coca', 'creosote bush', 'crithmum', 'davana', 'dried fallen leaves', 'earl grey tea', 'fern', 'galbanum', 'genmaicha', 'ginkgo', 'ginseng', 'grape leaves', 'grass', 'green notes', 'green pepper', 'green sap', 'gromwell', 'guao or maiden plum', 'hat straw', 'hay', 'henna', 'hops', 'horseweed', 'immortelle', 'ivy', 'jatamansi or spikenard', 'juniper', 'juniper berries', 'katrafay', 'katsura leaf', 'khella', 'laminaria', 'lantana leaf', 'lapsang souchong tea', 'lily of the valley leaves', 'limnophila aromatica', 'linaloe berry', 'lovage root', 'marigold', 'marjoram', 'matcha tea', 'melilot or sweet clover', 'mint', 'mistletoe', 'nettle', 'nut grass', 'oak leaves', 'oat', 'olive leaf', 'oolong tea', 'orchid leaf', 'oregano', 'palm leaf', 'palmarosa', 'pandanus', 'parsley', 'peach leaf', 'pear leaf', 'polygonum', 'portulaca or pigweed', 'red algae', 'reed', 'rice', 'rooibos red tea', 'rose leaf', 'rose thorn', 'rosemary', 'rue', 'rumex', 'rye', 'sage', 'satureja', 'saw palmetto', 'seaweed', 'shiso', 'sideritis, mountain tea', 'silk vine or milk broom', 'skunk cabbage', 'snake plant', 'spinach', 'strawberry leaf', 'sundew', 'sweet grass', 'tansy', 'tarragon', 'tea', 'thistle', 'thyme', 'ti leaf (cordyline)', 'tobacco', 'tomato leaf', 'tulsi', 'turnera diffusa (damiana)', 'valerian', 'vine', 'violet leaf', 'wheat', 'wintergreen', 'wormwood', 'yarrow', 'yunnan red tea', 'allspice', 'anise', 'asafoetida', 'bay leaf', 'cacao pod', 'caraway', 'cardamom', 'cassia', 'chutney', 'cinnamon', 'cinnamon leaf', 'clove leaf', 'cloves', 'coffee', 'coriander', 'cubeb or tailed pepper', 'cumin', 'curcuma (turmeric)', 'curry tree', 'dill', 'fennel', 'fenugreek', 'galanga', 'ginger', 'indian spices', 'japanese pepper', 'licorice', 'mace', 'mustard seed', 'nutmeg', 'oily notes', 'oriental notes', 'pepper', 'peppertree', 'pimento', 'pimento leaf', 'pimento seeds', 'pink pepper', 'priprioca', 'saffron', 'safraleine', 'sesame', 'sichuan pepper', 'spicy notes', 'star anise', 'sumac', 'tamarind', 'timur', 'tonka bean', 'toscanol', 'vanilla', 'wan sao lhong', 'wasabi', 'water pepper', 'west indian bay', 'acetyl furan', 'agave nectar', 'biscuit', 'bread', 'brioche', 'brown sugar', 'bubble gum', 'butter', 'butterscotch', \"calissons d'aix\", 'candied fruits', 'candied ginger', 'candied orange', 'candies', 'canelé', 'caramel', 'cereals', 'coconut pie', 'confetti (sugared almonds)', 'cookie', 'cotton candy', 'cream', 'crème brûlée', 'croissant', 'cupcake', 'custard', 'dark chocolate', 'dates', 'donut or doughnut', 'dulce de leche', 'french pastries', 'frosting [glacé]', 'gianduia', 'gingerbread', 'griotte cherries', 'halva', 'hazelnut cocoa spread', 'honey', 'honeycomb', 'horchata', 'ice cream', 'icing pink', 'jelly', 'kulfi', 'loukhoum', 'macarons', 'maple syrup', 'maraschino cherry', 'marmalade', 'marron glacé', 'marshmallow', 'marzipan', 'meringues', 'milk mousse', 'molasses', 'nougat', 'panettone', 'panna cotta', 'pear ice cream', 'popcorn', 'praline', 'profiterole', 'rainbow sorbet', 'rice pudding', 'rose jam', 'sorbet', 'spun sugar', 'strawberry syrup', 'sugar', 'tiramisu', 'toffee', 'waffle', 'white chocolate', 'yogurt', 'zefir', 'agarwood (oud)', 'akigalawood', 'alder', 'almond tree', 'amaranth', 'amyris', 'apple tree', 'araucaria', 'arbutus (madrona, bearberry tree)', 'argan tree', 'aspen', 'bamboo', 'baobab', 'bark', 'beech', 'belambra tree', 'birch', 'black hemlock or tsuga', 'black spruce', 'blackwood', 'brazilian rosewood', 'buddha wood', 'buxus', 'cabreuva', 'cambodian oud', 'canadian balsam', 'carob tree', 'cascarilla', 'cashmir wood', 'cedar', 'chalood bark', 'cherry tree', 'clearwood', 'cocobolo', 'coffee tree', 'cork', 'cottonwood (poplar)', 'cypress', 'cypriol oil or nagarmotha', 'driftwood', 'dry wood', 'ebony tree', 'eucalyptus', 'fig tree', 'fir', 'grass tree', 'guaiac wood', 'hinoki wood', 'ho wood', 'incienso', 'indian oud', 'indian woods', 'ishpink, ocotea quixos', 'kowhai', 'laotian oud', 'larch', 'lichen', 'mahogany', 'manuka', 'maple', 'massoia', 'mesquite wood', 'muhuhu', 'neem', 'nootka', 'oak', 'oakmoss', 'olive tree', 'palisander rosewood', 'palo santo', 'paperbark', 'papyrus', 'patchouli', 'pear tree', 'pepperwood or hercules club', 'pine tree', 'plum tree', 'pua keni keni (pua-lulu)', 'ravenala', 'ravensara', 'red willow', 'saman', 'sandalwood', 'satinwood', 'sequoia', 'siam', 'spruce', 'sycamore', 'takamaka', 'teak wood', 'thailand oud', 'thuja', 'vetiver', 'white oud', 'white willow', 'woody notes', 'yohimbe', 'amberwood', 'balsamic vinegar', 'benzoin', 'birch tar', 'breu-branco', 'bushman candle', 'cade oil', 'choya loban', 'choya nakh', 'choya ral', 'coal tar', 'copahu balm', 'copaiba balm', 'copal', 'dragon blood resin', 'elemi', 'gurjun balsam', 'incense', 'labdanum', 'mastic or lentisque', 'mopane', 'myrica', 'myrrh', 'nag champa', 'olibanum (frankincense)', 'opoponax', 'peru balsam', 'poplar (populus) buds', 'resins', 'rubber', 'styrax', 'surf wax', 'tea tree oil', 'amber', 'amber xtreme', 'ambergris', 'ambertonic™ (iff)', 'ambrarome', 'ambretone', 'ambrette (musk mallow)', 'ambrettolide', 'ambrocenide (symrise)', 'ambroxan', 'animal notes', 'bacon', 'bbq', 'beeswax', 'carrot seeds', 'castoreum', 'caviar', 'cetalox', 'cheese', 'civet', 'coral reef', 'daim', 'genet', 'goat hair', 'hyraceum', 'kephalis', 'leather', 'meat', 'milk', 'musk', 'oysters', 'sea shells', 'skin', 'starfish', 'suede', 'sylkolide', 'tolu balsam', 'truffle', 'absinthe', 'amaretto', 'applejack', 'baileys irish cream', 'beer/ale', 'bellini', 'blue margarita', 'bourbon whiskey', 'caipirinha', 'campari', 'cappuccino', 'champagne', 'coca-cola', 'cognac', 'cosmopolitan cocktail', 'cream soda', 'curacao', 'daiquiri', 'eau de vie', 'gin', 'grenadine', 'hi-fi', 'jasmine tea', 'kir royal', 'lemonade', 'limoncello', 'liquor', 'madeira', 'mai tai cocktail', 'martini', 'masala chai', 'mojito', 'pina colada', 'pisco sour cocktail', 'port wine', 'prosecco', 'punch', 'raki', 'red wine', 'rhum agricole', 'rum', 'sake', 'sangria', 'syrup', 'tequila', 'tokaji wine', 'tonic water', 'vermouth', 'vodka', 'whiskey', 'white wine', 'wine lees', 'accord eudora®', 'aldehydes', 'aluminum', 'ammonia', 'amyl salicylate', 'aquozone', 'ash', 'asphalt', 'blood', 'boisiris', 'brick', 'brown scotch tape', 'burnt match', 'calone', 'calypsone', 'camphor', 'caoutchouc', 'cascalone', 'cashmeran', 'clay', 'co2 extracts', 'coal', 'cobblestone', 'concrete', 'coranol', 'cosmone', 'coumarin', 'dew drop', 'dihydromyrcenol', 'dodecanal', 'earth tincture', 'earthy notes', 'ember', 'ethyl maltol', 'eugenol', 'fabric', 'fire', 'fish', 'flint', 'galaxolide', 'gasoline', 'geosmin', 'graphite', 'gunpowder', 'head space waterfall', 'hedione', 'hina', 'hot iron', 'ice', 'indole', 'industrial glue', 'ink', 'instant film accord', 'iso e super', 'isobutyl quinoline', 'javanol', 'jeans', 'lava', 'linen', 'lip gloss', 'lipstick', 'lorenox', 'magnolan', 'mahonial', 'melonal', 'metallic notes', 'mineral notes', 'mitti attar', 'motor oil', 'mountain air', 'mugane', 'naturalcalm™', 'neoprene', 'norlimbanol™', 'ozonic notes', 'paper', 'para-cresyl phenyl acetate', 'paradisone', 'peat', 'pebbles', 'petalia', 'plastic', 'pollen', 'pomarose', 'powdery notes', 'rain notes', 'salt', 'sand', 'satin', 'sea water', 'silk', 'slate', 'smoke', 'snow', 'soap', 'sodium silicate', 'solar notes', 'spiranol', 'spray paint', 'stone', 'sulphur', 'suntan lotion', 'talc', 'tennis ball', 'tulle accord', 'vanillin', 'varnish accord', 'velvet', 'verdox', 'vinyl', 'water', 'wet plaster', 'wool', 'yeast', 'breadnut']\n"
     ]
    }
   ],
   "source": [
    "f_list = list(dict.fromkeys(f_list))\n",
    "print(len(f_list))\n",
    "for i in range(len(f_list)):\n",
    "    f_list[i] = f_list[i].lower().strip()\n",
    "print(f_list)\n"
   ]
  },
  {
   "cell_type": "code",
   "execution_count": 253,
   "metadata": {},
   "outputs": [],
   "source": [
    "notes = []"
   ]
  },
  {
   "cell_type": "code",
   "execution_count": 254,
   "metadata": {},
   "outputs": [],
   "source": [
    "def get_notes(dir):\n",
    "    file = open(dir)\n",
    "    lines = file.readlines()\n",
    "    for l in lines:\n",
    "        if \":\" in l:\n",
    "            note = l.split(\":\")[-1].strip().split(\",\")\n",
    "            for n in note:\n",
    "                n = n.strip()\n",
    "                if n not in notes and n != \"\":\n",
    "                    notes.append(n)\n"
   ]
  },
  {
   "cell_type": "code",
   "execution_count": 255,
   "metadata": {},
   "outputs": [],
   "source": [
    "get_notes(\"Acqua di Parma.txt\")\n",
    "get_notes(\"Byredo.txt\")\n",
    "get_notes(\"Maison Margiela.txt\")\n",
    "get_notes(\"Santa Maria Novella.txt\")\n"
   ]
  },
  {
   "cell_type": "code",
   "execution_count": 256,
   "metadata": {},
   "outputs": [],
   "source": [
    "def get_notes2(dir):\n",
    "    f = open(dir)\n",
    "    fl = f.readlines()\n",
    "    for l in fl:\n",
    "        if l != '\\n' and \"-\" not in l and \"Notes\" not in l:\n",
    "            l = l.strip()\n",
    "            if l not in notes:\n",
    "                notes.append(l.strip())\n",
    "\n",
    "get_notes2(\"../jomalone.txt\")\n",
    "get_notes2(\"../Diptyque.txt\")\n"
   ]
  },
  {
   "cell_type": "code",
   "execution_count": 257,
   "metadata": {},
   "outputs": [],
   "source": [
    "creed = open(\"Creed.txt\")\n",
    "creed_l = creed.readlines()\n",
    "for l in creed_l:\n",
    "    if \"CREED\" not in l:\n",
    "        note = l.strip().split(\",\")\n",
    "        for n in note:\n",
    "            n = n.strip()\n",
    "            if n not in notes:\n",
    "                notes.append(n)"
   ]
  },
  {
   "cell_type": "code",
   "execution_count": 258,
   "metadata": {},
   "outputs": [],
   "source": [
    "len(notes)\n",
    "for i in range(len(notes)):\n",
    "    notes[i] = notes[i].lower()"
   ]
  },
  {
   "cell_type": "code",
   "execution_count": 259,
   "metadata": {},
   "outputs": [
    {
     "output_type": "stream",
     "name": "stdout",
     "text": [
      "384\n"
     ]
    }
   ],
   "source": [
    "count = 0\n",
    "no_notes = []\n",
    "for n in notes:\n",
    "    if n not in f_list:\n",
    "        no_notes.append(n)\n",
    "        count += 1\n",
    "print(count)"
   ]
  },
  {
   "cell_type": "code",
   "execution_count": 260,
   "metadata": {},
   "outputs": [
    {
     "output_type": "stream",
     "name": "stdout",
     "text": [
      "['sweet orange', 'calabrian bergamot', 'bulgarian rose', 'verbena', 'lavander', 'italian bergamot', 'italian orange', 'paraguaian petitgrain', 'russian coriander oil', 'jasmine sambac absolute', 'france narcissus absolute', 'virginian cedarwood', 'indonesian patchouli', 'sicilian lemon', 'leather accord', 'cedar wood', 'mandarin', 'petit grain', 'lily of the valley', 'rose accord', 'jasmine accord', 'white musk', 'sicilian mandarin', 'galbanol', 'haitian vetiver', 'ambergris accord', 'cedarwood', 'italian sweet orange', 'italian mandarin', 'italian lemon', 'fig nectar', 'jasmine petals', 'fig wood', 'star anise accord', 'lavandin', 'fir balsam', 'pine needles', 'marine breeze', 'jasmine absolute', 'damask rose absolute', 'lentisc ansolute', 'calabrian bergamot dop', 'red ginger', 'green almonds', 'ylang ylang', 'madagascar vanilla', 'lebanese cedarwood', 'haitian amyris oil', 'russian coriander', 'agarwood oil (oud)', 'patchouli oil', 'brazilian orange', 'raspberry accord', 'red thyme', 'paraguayan guaiac oil', 'nagarmotha', 'heliotrhope', 'jasmine sambac', 'violet leaves', 'liquorice', 'yellow mandarin', 'camelia accord', 'benzoin resinoid', 'green mandarin', 'ambrette', 'sakura', 'centifolia rose absolute', 'peony accord', 'black pepper', 'egyptian geranium', 'freesia accord', 'turkish rose', 'ambery accord', 'patchouli indonesia', 'sicilian citron', 'tuberose absolute', 'jasmine sambac absolute', 'violet accord', 'guaiac', 'olibanum', 'ciste', 'orange flower', 'cisto ladbanum', 'calabrian lemon', 'mate', 'blackcurrant', 'ceylon black tea', 'birch woods', 'payrus', 'orris', 'pine needle', 'african marigold', 'bucchu', 'moroccan cedarwood', 'turkish rose petals', 'turkish rose absolute', 'white amber', 'aldehyde', 'white rose', 'blonde woods', 'chantilly musk', 'crisp amber', 'rose petals', 'silk musk', 'unknown', 'leather accord', 'black amber', 'moss', 'tobacco leaves', 'ban timmur', 'wild fig', 'cashmere woods', 'mandarin leaves', 'neroli flower', 'green lavender', 'white cedarwood', 'indian tuberose', 'rosewood', 'honey accord', 'black tea', 'birch tree', 'ambrette seeds', 'rose damascena', 'cistus labdanum', 'opopanax', 'powdery musks', 'oud', 'adoxal', 'clover honey', 'patchouli leaf', 'accord cuir', 'black violet', 'cristal rose', 'cassis', 'damascena rose (oil)', 'pink freesia', 'fresh jasmine', 'sicilian bergamot', 'fresh musk', 'rose absolute', 'ambrette flower', 'skin musks', 'tiare', 'peach flower', 'angelica seeds', 'dewy tuberose', 'wild jasmine sambac', 'fresh amber', 'patchouli leaves', 'cotton musks', 'cocoa absolu', 'wild musk', 'bigarade essence', 'basil essence', 'geranium essence', 'rosemary essence', 'evernyl', 'white musks', 'notes of tonka beans and white musk', 'black pepper', 'basil accord', 'transluzone', 'cococut milk', 'crushed leaves accord', 'sambac jasmine from india', 'infusion of egyptian jasmine', 'infusion of tuberose', 'rose from grasse', 'cedar wood', 'oak moss', 'orange flower petals', 'clove oil', 'chestnut accord', 'gaïac wood oil', 'vanilla accord', 'pepper essence', 'orange flower petals firnat', 'patchouli prisma', 'cypriol', 'tonka bean absolute', 'benzoin siam resinoid', 'vanilla absolute', 'cedarwood entrainé', 'greenleaves accord', 'sambac jasmine', 'egyptian jasmine', 'grasse rose', 'oak moss', 'primofiore lemon', 'neroli oil', 'clarysage oil', 'rum absolute', 'java vetiver oil', 'styraxresin', 'tobacco leaf absolute', 'vanilla bean', 'pear accord', 'clean accord', 'iris accord', 'rose petales', 'white woods', 'white & creamy musk', 'bergamot essence', 'mandarine essence', 'green tea accord', 'matcha accord', 'orange blossom absolute', 'jasmin accord', 'moss accord', 'white chocolate accord', 'weed accord', 'violet leaves absolute', 'red apple accord', 'patchouli essence', 'tobacco from balkans accord', 'incense accord', 'virginia cedarwood essence', 'cypress essence', 'aquatic accord', 'aldehydes accord', 'juniper pure jungle essence', 'coriander eo', 'iris absolute', 'rose superessence', 'red seaweed pure jungle essence', 'orcanox', 'blackcurrant accord', 'lily of the valley accord', 'jasmine grandiflorum absolute', 'rose damascena absolute', 'musks', 'ambrox', 'kalamansi flavor accord', 'petitgrain essence', 'cardamom essence', 'coriander essence', 'mate absolute', 'green tea extract', 'cedarwood essence', 'fresh citrus notes', 'oriental sweet note', 'black current', 'white musk', 'precious woods', 'calabrian bergamot', 'tuscan tobacco leaves', 'birch leaves', 'spices', 'cedar wood', 'burnt malt', 'floral', 'citrus notes', 'floral powdery notes', 'sweet oriental notes', 'red thyme', 'floral note with citrus shades', 'aromatic woods', 'citrus', 'tobacco leaves', 'sweet notes', 'salvia sclarea', 'sicilian lemon', 'sumatra benzoin', 'korean pine', 'conifers', 'wild lavender', 'helichrysum', 'wild fennel', 'orange blossoms', 'green tea', 'softwoods', 'sicilian citrus', 'benzoin resin', 'genista (broom)', 'sweet floral notes', 'woods', 'fresh notes', 'oak musk', 'fig flowers', 'herbaceous green notes', 'fresh marine notes', 'rosa centifolia', 'oriental woods', 'sweetgum resin', 'virginia cedar wood', 'rose wood', 'violet leaves', 'birch wood', 'green aromatic notes', 'clove', 'paprika', 'black cardamom', 'kyara incense (olibanum)', 'damask rose', 'clove', 'myrhh', 'virginia cedar', 'vanille', 'amalfi lemon', 'sea salt', 'rhuburb', 'egyptian pelargonium', 'vetyver', 'spices', 'italian cypress', 'roasted coffee beans', 'bourbon vanilla', 'elemi resin', 'white honey', 'african orange flower', 'orange leaf', 'rock rose', 'white pepper', 'peppermint', 'red mandarin', 'brazilian pintango orange', 'carraway', 'tunisian orange blossom', 'patchouli flowers', 'green violet leaf', 'sicilian orange blossom', 'mexican vanilla orchid', 'granny smith apple', 'blackcurrant leaves', 'pink berries', 'baie rose', 'indian sandalwood', 'verbena from india', 'florentine iris', 'green tea', 'blackcurrant bud', 'egyptian green apple', 'bulgarian and turkish roses', 'sweet peach', 'la réunion baie rose (pink peppercorn)', 'peppercorn', 'indian patchouli', 'lavandin absolute', 'angelica roots', 'tonkin musk', 'sicilian white bergamot', 'jamaican lime', 'indian jasmine', 'tropical wood', 'vetiver leaves', 'mysore sandalwood', 'orange tree absolute', 'jamaican ginger', 'siam benzoin', 'pinkberries', 'british gin', 'scottish highland pine', 'duke of windsor roses', 'bahamian orange', 'canadian cedar', 'australian eucalyptus', 'orange zest from italy', 'french daffodils', 'tonkin rice', 'sweet violet', 'iris from tuscany', 'benjoin siam', 'and apple', 'white carnations', 'virginia cedarwood', 'white grapefruit', 'bulgarian roses', 'sweet magnolia', 'basmati rice', 'virginian cedar', 'violet from greece', 'burgundy blackcurrant', 'green orange', 'tuberose from italy', 'cinnamon bark', 'angelic roots', 'pimento (jamaican pepper)', 'vetiver from haiti', 'vanilla from comoros (africa)', 'white bergamot', 'green apple', 'fruity accord', 'floral accord', 'absolute jasmine']\n"
     ]
    }
   ],
   "source": [
    "print(no_notes)"
   ]
  },
  {
   "cell_type": "code",
   "execution_count": 241,
   "metadata": {},
   "outputs": [],
   "source": []
  },
  {
   "cell_type": "code",
   "execution_count": 261,
   "metadata": {},
   "outputs": [
    {
     "output_type": "stream",
     "name": "stdout",
     "text": [
      "172\n['verbena', 'lavander', 'russian coriander oil', 'france narcissus absolute', 'virginian cedarwood', 'mandarin', 'petit grain', 'sicilian mandarin', 'galbanol', 'cedarwood', 'italian mandarin', 'star anise accord', 'lavandin', 'pine needles', 'marine breeze', 'damask rose absolute', 'lentisc ansolute', 'calabrian bergamot dop', 'green almonds', 'ylang ylang', 'lebanese cedarwood', 'haitian amyris oil', 'agarwood oil (oud)', 'paraguayan guaiac oil', 'nagarmotha', 'heliotrhope', 'liquorice', 'yellow mandarin', 'camelia accord', 'green mandarin', 'ambrette', 'sakura', 'centifolia rose absolute', 'ambery accord', 'guaiac', 'olibanum', 'ciste', 'cisto ladbanum', 'mate', 'blackcurrant', 'payrus', 'orris', 'pine needle', 'bucchu', 'moroccan cedarwood', 'turkish rose petals', 'turkish rose absolute', 'aldehyde', 'blonde woods', 'unknown', 'moss', 'ban timmur', 'cashmere woods', 'mandarin leaves', 'white cedarwood', 'rosewood', 'ambrette seeds', 'opopanax', 'powdery musks', 'oud', 'adoxal', 'accord cuir', 'cassis', 'damascena rose (oil)', 'ambrette flower', 'tiare', 'wild jasmine sambac', 'cotton musks', 'cocoa absolu', 'evernyl', 'white musks', 'transluzone', 'crushed leaves accord', 'sambac jasmine from india', 'clove oil', 'gaïac wood oil', 'cypriol', 'tonka bean absolute', 'cedarwood entrainé', 'greenleaves accord', 'clarysage oil', 'java vetiver oil', 'styraxresin', 'clean accord', 'white woods', 'mandarine essence', 'green tea accord', 'matcha accord', 'jasmin accord', 'moss accord', 'white chocolate accord', 'weed accord', 'red apple accord', 'virginia cedarwood essence', 'aquatic accord', 'red seaweed pure jungle essence', 'orcanox', 'blackcurrant accord', 'musks', 'ambrox', 'kalamansi flavor accord', 'mate absolute', 'green tea extract', 'cedarwood essence', 'fresh citrus notes', 'oriental sweet note', 'black current', 'precious woods', 'tuscan tobacco leaves', 'spices', 'floral', 'citrus notes', 'floral powdery notes', 'sweet oriental notes', 'floral note with citrus shades', 'aromatic woods', 'citrus', 'sweet notes', 'salvia sclarea', 'korean pine', 'conifers', 'helichrysum', 'softwoods', 'sicilian citrus', 'genista (broom)', 'sweet floral notes', 'woods', 'fresh notes', 'herbaceous green notes', 'fresh marine notes', 'rosa centifolia', 'oriental woods', 'sweetgum resin', 'virginia cedar wood', 'green aromatic notes', 'clove', 'paprika', 'kyara incense (olibanum)', 'clove', 'myrhh', 'vanille', 'rhuburb', 'vetyver', 'spices', 'roasted coffee beans', 'african orange flower', 'peppermint', 'red mandarin', 'carraway', 'tunisian orange blossom', 'green violet leaf', 'sicilian orange blossom', 'blackcurrant leaves', 'pink berries', 'verbena from india', 'blackcurrant bud', 'bulgarian and turkish roses', 'la réunion baie rose (pink peppercorn)', 'peppercorn', 'lavandin absolute', 'tropical wood', 'pinkberries', 'scottish highland pine', 'duke of windsor roses', 'french daffodils', 'white carnations', 'virginia cedarwood', 'bulgarian roses', 'burgundy blackcurrant', 'angelic roots', 'fruity accord', 'floral accord']\n"
     ]
    }
   ],
   "source": [
    "nono= []\n",
    "noyes = []\n",
    "for n in no_notes:\n",
    "    try:\n",
    "        if n.split()[-1] not in f_list and n.split()[0] not in f_list:\n",
    "            nono.append(n)\n",
    "        else:\n",
    "            noyes.append(n)\n",
    "    except:\n",
    "        print(\"error\",n)\n",
    "print(len(nono))\n",
    "print(nono)\n"
   ]
  },
  {
   "cell_type": "code",
   "execution_count": 262,
   "metadata": {},
   "outputs": [
    {
     "output_type": "stream",
     "name": "stdout",
     "text": [
      "['sweet orange', 'calabrian bergamot', 'bulgarian rose', 'italian bergamot', 'italian orange', 'paraguaian petitgrain', 'jasmine sambac absolute', 'indonesian patchouli', 'sicilian lemon', 'leather accord', 'cedar wood', 'lily of the valley', 'rose accord', 'jasmine accord', 'white musk', 'haitian vetiver', 'ambergris accord', 'italian sweet orange', 'italian lemon', 'fig nectar', 'jasmine petals', 'fig wood', 'fir balsam', 'jasmine absolute', 'red ginger', 'madagascar vanilla', 'russian coriander', 'patchouli oil', 'brazilian orange', 'raspberry accord', 'red thyme', 'jasmine sambac', 'violet leaves', 'benzoin resinoid', 'peony accord', 'black pepper', 'egyptian geranium', 'freesia accord', 'turkish rose', 'patchouli indonesia', 'sicilian citron', 'tuberose absolute', 'jasmine sambac absolute', 'violet accord', 'orange flower', 'calabrian lemon', 'ceylon black tea', 'birch woods', 'african marigold', 'white amber', 'white rose', 'chantilly musk', 'crisp amber', 'rose petals', 'silk musk', 'leather accord', 'black amber', 'tobacco leaves', 'wild fig', 'neroli flower', 'green lavender', 'indian tuberose', 'honey accord', 'black tea', 'birch tree', 'rose damascena', 'cistus labdanum', 'clover honey', 'patchouli leaf', 'black violet', 'cristal rose', 'pink freesia', 'fresh jasmine', 'sicilian bergamot', 'fresh musk', 'rose absolute', 'skin musks', 'peach flower', 'angelica seeds', 'dewy tuberose', 'fresh amber', 'patchouli leaves', 'wild musk', 'bigarade essence', 'basil essence', 'geranium essence', 'rosemary essence', 'notes of tonka beans and white musk', 'black pepper', 'basil accord', 'cococut milk', 'infusion of egyptian jasmine', 'infusion of tuberose', 'rose from grasse', 'cedar wood', 'oak moss', 'orange flower petals', 'chestnut accord', 'vanilla accord', 'pepper essence', 'orange flower petals firnat', 'patchouli prisma', 'benzoin siam resinoid', 'vanilla absolute', 'sambac jasmine', 'egyptian jasmine', 'grasse rose', 'oak moss', 'primofiore lemon', 'neroli oil', 'rum absolute', 'tobacco leaf absolute', 'vanilla bean', 'pear accord', 'iris accord', 'rose petales', 'white & creamy musk', 'bergamot essence', 'orange blossom absolute', 'violet leaves absolute', 'patchouli essence', 'tobacco from balkans accord', 'incense accord', 'cypress essence', 'aldehydes accord', 'juniper pure jungle essence', 'coriander eo', 'iris absolute', 'rose superessence', 'lily of the valley accord', 'jasmine grandiflorum absolute', 'rose damascena absolute', 'petitgrain essence', 'cardamom essence', 'coriander essence', 'white musk', 'calabrian bergamot', 'birch leaves', 'cedar wood', 'burnt malt', 'red thyme', 'tobacco leaves', 'sicilian lemon', 'sumatra benzoin', 'wild lavender', 'wild fennel', 'orange blossoms', 'green tea', 'benzoin resin', 'oak musk', 'fig flowers', 'rose wood', 'violet leaves', 'birch wood', 'black cardamom', 'damask rose', 'virginia cedar', 'amalfi lemon', 'sea salt', 'egyptian pelargonium', 'italian cypress', 'bourbon vanilla', 'elemi resin', 'white honey', 'orange leaf', 'rock rose', 'white pepper', 'brazilian pintango orange', 'patchouli flowers', 'mexican vanilla orchid', 'granny smith apple', 'baie rose', 'indian sandalwood', 'florentine iris', 'green tea', 'egyptian green apple', 'sweet peach', 'indian patchouli', 'angelica roots', 'tonkin musk', 'sicilian white bergamot', 'jamaican lime', 'indian jasmine', 'vetiver leaves', 'mysore sandalwood', 'orange tree absolute', 'jamaican ginger', 'siam benzoin', 'british gin', 'bahamian orange', 'canadian cedar', 'australian eucalyptus', 'orange zest from italy', 'tonkin rice', 'sweet violet', 'iris from tuscany', 'benjoin siam', 'and apple', 'white grapefruit', 'sweet magnolia', 'basmati rice', 'virginian cedar', 'violet from greece', 'green orange', 'tuberose from italy', 'cinnamon bark', 'pimento (jamaican pepper)', 'vetiver from haiti', 'vanilla from comoros (africa)', 'white bergamot', 'green apple', 'absolute jasmine']\n"
     ]
    }
   ],
   "source": [
    "print(noyes)"
   ]
  },
  {
   "cell_type": "code",
   "execution_count": 263,
   "metadata": {},
   "outputs": [],
   "source": [
    "no = pd.DataFrame(no_notes, columns = [\"no\"])\n",
    "nono = pd.DataFrame(nono, columns=[\"nono\"])\n",
    "noyes = pd.DataFrame(noyes, columns=[\"noyes\"])\n"
   ]
  },
  {
   "cell_type": "code",
   "execution_count": 265,
   "metadata": {},
   "outputs": [],
   "source": [
    "no.to_excel(\"no.xlsx\")\n",
    "nono.to_excel(\"nono.xlsx\")\n",
    "noyes.to_excel(\"noyes.xlsx\")\n"
   ]
  },
  {
   "cell_type": "code",
   "execution_count": null,
   "metadata": {},
   "outputs": [],
   "source": []
  }
 ]
}